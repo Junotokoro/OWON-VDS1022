{
 "cells": [
  {
   "cell_type": "markdown",
   "id": "1691ce30",
   "metadata": {},
   "source": [
    "# VDS 1022/i Oscilloscope\n",
    "\n",
    "To install :"
   ]
  },
  {
   "cell_type": "raw",
   "id": "7c7ca939",
   "metadata": {},
   "source": [
    "python -m pip install ."
   ]
  },
  {
   "cell_type": "markdown",
   "id": "264c9c3f",
   "metadata": {},
   "source": [
    "Help:"
   ]
  },
  {
   "cell_type": "code",
   "execution_count": null,
   "id": "1e311868",
   "metadata": {},
   "outputs": [],
   "source": [
    "from vds1022 import *\n",
    "help(vds1022)\n",
    "help(vds1022.Frames)\n",
    "help(vds1022.Frame)"
   ]
  },
  {
   "cell_type": "markdown",
   "id": "48a8221e",
   "metadata": {},
   "source": [
    "Note that the first call of `VDS1022()` will take a few seconds since it has to load the FPGA firmware.\n",
    "The device will remain connected unless `.dispose()` is called or if the kernel is restarted. Interrupting the kernel (`I`,`I`) will not terminate the connection.\n",
    "\n",
    "### Examples :\n",
    "1. [Live plotting](#1.-Live-plotting)\n",
    "2. [Acquisition](#2.-Acquisition)\n",
    "3. [Data logging](#3.-Data-logging)\n",
    "4. [Continuous sampling](#4.-Continuous-sampling)\n",
    "5. [FFT Spectrum Analysis](#5.-FFT-Spectrum-Analysis)\n",
    "6. [Decoding](#6.-Decoding)"
   ]
  },
  {
   "cell_type": "markdown",
   "id": "5c684d09",
   "metadata": {},
   "source": [
    "## 1. Live plotting\n"
   ]
  },
  {
   "cell_type": "markdown",
   "id": "2720c7bf",
   "metadata": {},
   "source": [
    "Plot the signals and refresh every 200ms"
   ]
  },
  {
   "cell_type": "code",
   "execution_count": null,
   "id": "d7673722",
   "metadata": {
    "scrolled": false
   },
   "outputs": [],
   "source": [
    "from vds1022 import *\n",
    "\n",
    "dev = VDS1022(debug=False)\n",
    "dev.set_timerange('20ms')\n",
    "dev.set_channel(CH1, range='20v', coupling=DC, offset=0, probe='x10')\n",
    "dev.set_channel(CH2, range='10v', coupling=DC, offset=0, probe='x10')\n",
    "dev.set_trigger(CH1, EDGE, RISE, level='2.5v', sweep=AUTO)\n",
    "dev.plot();"
   ]
  },
  {
   "cell_type": "code",
   "execution_count": null,
   "id": "f382a48e",
   "metadata": {},
   "outputs": [],
   "source": [
    "dev.stop();"
   ]
  },
  {
   "cell_type": "markdown",
   "id": "57a4dad9",
   "metadata": {},
   "source": [
    "## 2. Acquisition\n",
    "Pull the buffer of the device once triggered and plot."
   ]
  },
  {
   "cell_type": "code",
   "execution_count": null,
   "id": "cb3927d5",
   "metadata": {
    "scrolled": true
   },
   "outputs": [],
   "source": [
    "from vds1022 import *\n",
    "\n",
    "dev = VDS1022(debug=False)\n",
    "dev.set_timerange('5ms')\n",
    "dev.set_channel(CH1, range='10v', coupling=AC, offset=0, probe='x10')\n",
    "dev.set_channel(CH2, range='10v', coupling=DC, offset=0, probe='x10')\n",
    "dev.set_trigger(CH1, EDGE, RISE, position=0.5, level='2.5v', sweep=ONCE)\n",
    "frames = dev.pull()\n",
    "frames.plot()"
   ]
  },
  {
   "cell_type": "markdown",
   "id": "ca57d788",
   "metadata": {},
   "source": [
    "Generate descriptive statistics."
   ]
  },
  {
   "cell_type": "code",
   "execution_count": null,
   "id": "f6013bb2",
   "metadata": {},
   "outputs": [],
   "source": [
    "frames.describe()"
   ]
  },
  {
   "cell_type": "markdown",
   "id": "80e11df2",
   "metadata": {},
   "source": [
    "Custom measures."
   ]
  },
  {
   "cell_type": "code",
   "execution_count": null,
   "id": "d416b9de",
   "metadata": {},
   "outputs": [],
   "source": [
    "(\n",
    "    'CH1 Vmax: %sV'  % frames.ch1.max(),\n",
    "    'CH1 Vavg: %sV' % frames.ch1.mean(),\n",
    "    'CH1 Vrms: %sV'  % frames.ch1.rms()\n",
    ")"
   ]
  },
  {
   "cell_type": "markdown",
   "id": "b8e968e6",
   "metadata": {},
   "source": [
    "Convert to [pandas DataFrame](https://pandas.pydata.org/pandas-docs/stable/user_guide/dsintro.html#dataframe)"
   ]
  },
  {
   "cell_type": "code",
   "execution_count": null,
   "id": "471188eb",
   "metadata": {},
   "outputs": [],
   "source": [
    "frames.to_dataframe()"
   ]
  },
  {
   "cell_type": "markdown",
   "id": "9b35af35",
   "metadata": {},
   "source": [
    "## 3. Data logging\n",
    "This section provides examples to measure a signal at a defined interval."
   ]
  },
  {
   "cell_type": "markdown",
   "id": "f4bbf843",
   "metadata": {},
   "source": [
    "Measure and plot the RMS voltage."
   ]
  },
  {
   "cell_type": "code",
   "execution_count": null,
   "id": "72feb704",
   "metadata": {
    "scrolled": false
   },
   "outputs": [],
   "source": [
    "from vds1022 import *\n",
    "\n",
    "dev = VDS1022(debug=False)\n",
    "dev.set_timerange('5ms')\n",
    "dev.set_channel(CH1, range='10v', coupling=DC, offset=0, probe='x1')\n",
    "dev.set_channel(CH2, range='10v', coupling=DC, offset=0, probe='x1')\n",
    "dev.stream(freq=1).agg('rms').plot();"
   ]
  },
  {
   "cell_type": "markdown",
   "id": "7693dbd9",
   "metadata": {},
   "source": [
    "Measure and print the RMS voltage."
   ]
  },
  {
   "cell_type": "code",
   "execution_count": null,
   "id": "1f142424",
   "metadata": {
    "scrolled": false
   },
   "outputs": [],
   "source": [
    "from vds1022 import *\n",
    "\n",
    "dev = VDS1022(debug=False)\n",
    "dev.set_timerange('5ms')\n",
    "dev.set_channel(CH1, range='10v', coupling=DC, offset=0, probe='x1')\n",
    "dev.set_channel(CH2, range='10v', coupling=DC, offset=0, probe='x1')\n",
    "\n",
    "for frames in dev.pull_iter():\n",
    "    t = round(frames.time, 1)\n",
    "    v = frames.ch1.rms()\n",
    "    print('Time:%s  CH1:%sv     ' % (t, v), end='\\r')"
   ]
  },
  {
   "cell_type": "markdown",
   "id": "51d392ef",
   "metadata": {},
   "source": [
    "## 4. Continuous sampling\n",
    "\n",
    "This section provides examples to aquire and plot continuous samples without interruption for a defined duration or on a trigger event.  \n",
    "While this device can acquire sampling frames at 100Ms/s, the maximum continuous sampling rate is around 100Ks/s (20ms timerange).  \n",
    "Since the amount of data can be quite consequent, the plotting has to go through rasterization."
   ]
  },
  {
   "cell_type": "markdown",
   "id": "220b71ad",
   "metadata": {},
   "source": [
    "Read continuous samples for a defined time"
   ]
  },
  {
   "cell_type": "code",
   "execution_count": null,
   "id": "173b2df2",
   "metadata": {
    "scrolled": false
   },
   "outputs": [],
   "source": [
    "from vds1022 import *\n",
    "import hvplot.pandas\n",
    "\n",
    "dev = VDS1022()\n",
    "dev.set_sampling_rate(40e3)\n",
    "dev.set_channel(CH1, DC, range='10v', offset=-0.4, probe='x10')\n",
    "dev.set_channel(CH2, DC, range='10v', offset=-0.4, probe='x10')\n",
    "\n",
    "df = dev.read('2s').to_dataframe()\n",
    "df.hvplot(rasterize=True).opts(width=700, ylim=dev.ylim(), colorbar=False)"
   ]
  },
  {
   "cell_type": "markdown",
   "id": "fb6be8dc",
   "metadata": {},
   "source": [
    "Read continuous samples on a trigger"
   ]
  },
  {
   "cell_type": "code",
   "execution_count": null,
   "id": "155c6f63",
   "metadata": {
    "scrolled": true
   },
   "outputs": [],
   "source": [
    "from vds1022 import *\n",
    "import hvplot.pandas\n",
    "\n",
    "dev = VDS1022()\n",
    "dev.set_sampling_rate(40e3)\n",
    "dev.set_channel(CH1, DC, range='10v', offset=0, probe='x10')\n",
    "dev.set_channel(CH2, DC, range='10v', offset=0, probe='x10')\n",
    "dev.set_trigger(CH1, EDGE, RISE, level='2v', alternate=False, sweep=ONCE)\n",
    "\n",
    "df = dev.read('500ms', pre='50ms').to_dataframe()\n",
    "df.hvplot(rasterize=True).opts(width=800, ylim=dev.ylim(), colorbar=False)"
   ]
  },
  {
   "cell_type": "markdown",
   "id": "863132d2",
   "metadata": {},
   "source": [
    "## 5. FFT Spectrum Analysis"
   ]
  },
  {
   "cell_type": "code",
   "execution_count": null,
   "id": "9a5afa82",
   "metadata": {
    "scrolled": false
   },
   "outputs": [],
   "source": [
    "from vds1022 import *\n",
    "\n",
    "dev = VDS1022(debug=0)\n",
    "dev.set_timerange('40ms')\n",
    "dev.set_channel(CH1, range='10v', coupling=AC, offset=0, probe='x10')\n",
    "dev.set_trigger(CH1, EDGE, RISE, position=0.5, level='2v', sweep=AUTO)"
   ]
  },
  {
   "cell_type": "code",
   "execution_count": null,
   "id": "32421a07",
   "metadata": {
    "scrolled": false
   },
   "outputs": [],
   "source": [
    "%matplotlib inline\n",
    "import matplotlib.pyplot as plt\n",
    "import numpy as np\n",
    "\n",
    "# acquire samples and compute the discrete Fourier Transform\n",
    "frame = dev.pull().ch1\n",
    "xf, yf = frame.fft()\n",
    "\n",
    "# plot\n",
    "plt.rcParams['axes.grid'] = True\n",
    "fig, axs = plt.subplots(3, 1, figsize=(12, 3 * 2.3))\n",
    "axs[0].set_xlabel('Time [ms]')\n",
    "axs[0].set_ylabel('Amplitude [V]')\n",
    "axs[0].plot(frame.x() * 1000, frame.y())\n",
    "axs[1].set_xlabel('Frequency [kHz]')\n",
    "axs[1].set_ylabel('Magnitude [Vrms]')\n",
    "axs[1].plot(xf / 1000, yf)\n",
    "axs[2].set_xlabel('Frequency [kHz]')\n",
    "axs[2].set_ylabel('Magnitude [dBV]')\n",
    "axs[2].plot(xf / 1000, 20 * np.log10(yf))\n",
    "axs[2].yaxis.set_ticks(np.arange(-100, 30, 20));\n",
    "plt.tight_layout()"
   ]
  },
  {
   "cell_type": "markdown",
   "id": "3509cea5",
   "metadata": {},
   "source": [
    "## 6. Decoding I2C"
   ]
  },
  {
   "cell_type": "code",
   "execution_count": null,
   "id": "d7fa49f6",
   "metadata": {},
   "outputs": [],
   "source": [
    "from vds1022 import *\n",
    "\n",
    "dev = VDS1022()\n",
    "dev.set_sampling_rate(100000)\n",
    "dev.set_channel(CH1, range='10v', coupling=DC, offset=-0.1, probe='x1')\n",
    "dev.set_channel(CH2, range='10v', coupling=DC, offset=0, probe='x1')\n",
    "dev.set_trigger(CH1, EDGE, FALL, position=0.1, level='1.2v', sweep=ONCE)\n",
    "frames = dev.pull()\n",
    "frames.plot()\n",
    "\n",
    "for msg in frames.decode_i2c():\n",
    "    print(msg, msg.data)"
   ]
  }
 ],
 "metadata": {
  "kernelspec": {
   "display_name": "Python 3 (ipykernel)",
   "language": "python",
   "name": "python3"
  },
  "language_info": {
   "codemirror_mode": {
    "name": "ipython",
    "version": 3
   },
   "file_extension": ".py",
   "mimetype": "text/x-python",
   "name": "python",
   "nbconvert_exporter": "python",
   "pygments_lexer": "ipython3",
   "version": "3.9.7"
  }
 },
 "nbformat": 4,
 "nbformat_minor": 5
}
