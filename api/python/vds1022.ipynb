{
 "cells": [
  {
   "cell_type": "markdown",
   "id": "1691ce30",
   "metadata": {},
   "source": [
    "# VDS 1022/i Oscilloscope\n",
    "\n",
    "To install from this folder :"
   ]
  },
  {
   "cell_type": "markdown",
   "id": "7d4e8bc9",
   "metadata": {},
   "source": [
    "`python -m pip install .`"
   ]
  },
  {
   "cell_type": "markdown",
   "id": "264c9c3f",
   "metadata": {},
   "source": [
    "Help:"
   ]
  },
  {
   "cell_type": "code",
   "execution_count": null,
   "id": "1e311868",
   "metadata": {
    "scrolled": false
   },
   "outputs": [],
   "source": [
    "from vds1022 import *\n",
    "help(vds1022)"
   ]
  },
  {
   "cell_type": "code",
   "execution_count": null,
   "id": "c7e66d69",
   "metadata": {
    "scrolled": false
   },
   "outputs": [],
   "source": [
    "from vds1022 import *\n",
    "help(vds1022.Frames)"
   ]
  },
  {
   "cell_type": "code",
   "execution_count": null,
   "id": "8ed02b3a",
   "metadata": {
    "scrolled": false
   },
   "outputs": [],
   "source": [
    "from vds1022 import *\n",
    "help(vds1022.Frame)"
   ]
  },
  {
   "cell_type": "markdown",
   "id": "48a8221e",
   "metadata": {},
   "source": [
    "Note that the first call of `VDS1022()` will take a few seconds since it has to load the FPGA firmware.\n",
    "The device will remain connected unless `.dispose()` is called or if the kernel is restarted. Interrupting the kernel (`I`,`I`) will not terminate the connection.\n",
    "\n",
    "### Examples :\n",
    "1. [Read voltage](#1.-Read-voltage)\n",
    "2. [Acquire a signal](#2.-Acquire-a-signal)\n",
    "3. [Live plotting](#3.-Live-plotting)\n",
    "4. [Data logging](#4.-Data-logging)\n",
    "5. [Continuous sampling](#5.-Continuous-sampling)\n",
    "6. [Decoding](#6.-Decoding)\n",
    "7. [Spectrum analysis](#7.-Spectrum-analysis)\n",
    "8. [Calibration](#8.-Calibration)\n",
    "9. [Release device](#9.-Release-device)"
   ]
  },
  {
   "cell_type": "markdown",
   "id": "5d9a759e",
   "metadata": {},
   "source": [
    "## 1. Read voltage"
   ]
  },
  {
   "cell_type": "markdown",
   "id": "8634cd25",
   "metadata": {},
   "source": [
    "Read RMS voltage on channel 1  \n",
    "Metrics: `rms, avg, max, min, std, freq, median, percentile`"
   ]
  },
  {
   "cell_type": "code",
   "execution_count": null,
   "id": "c485f721",
   "metadata": {
    "scrolled": false
   },
   "outputs": [],
   "source": [
    "from vds1022 import *\n",
    "\n",
    "dev = VDS1022(debug=0)\n",
    "dev.set_channel(CH1, range='10v', offset=1/10, probe='x10')\n",
    "frames = dev.fetch()\n",
    "print(\"%s Vrms\" % frames.ch1.rms())"
   ]
  },
  {
   "cell_type": "markdown",
   "id": "d60bf08c",
   "metadata": {},
   "source": [
    "Plotting"
   ]
  },
  {
   "cell_type": "code",
   "execution_count": null,
   "id": "0093a70e",
   "metadata": {
    "scrolled": false
   },
   "outputs": [],
   "source": [
    "frames.plot()"
   ]
  },
  {
   "cell_type": "markdown",
   "id": "f6757a3d",
   "metadata": {},
   "source": [
    "Read in a loop (interrupt to stop)"
   ]
  },
  {
   "cell_type": "code",
   "execution_count": null,
   "id": "b0b4df67",
   "metadata": {},
   "outputs": [],
   "source": [
    "try:\n",
    "    for frames in dev.fetch_iter(freq=2, autorange=False):\n",
    "        print('CH1:%sv     ' % frames.ch1.rms(), end='\\r')\n",
    "except KeyboardInterrupt: pass"
   ]
  },
  {
   "cell_type": "markdown",
   "id": "57a4dad9",
   "metadata": {},
   "source": [
    "## 2. Acquire a signal"
   ]
  },
  {
   "cell_type": "markdown",
   "id": "51d990ca",
   "metadata": {},
   "source": [
    "Autoset the device and plot the signals"
   ]
  },
  {
   "cell_type": "code",
   "execution_count": null,
   "id": "53b2a474",
   "metadata": {
    "scrolled": true
   },
   "outputs": [],
   "source": [
    "from vds1022 import *\n",
    "\n",
    "dev = VDS1022(debug=0)\n",
    "frames = dev.autoset().fetch()\n",
    "frames.plot()"
   ]
  },
  {
   "cell_type": "markdown",
   "id": "916347ad",
   "metadata": {},
   "source": [
    "Generate descriptive statistics."
   ]
  },
  {
   "cell_type": "code",
   "execution_count": null,
   "id": "6d85f9c3",
   "metadata": {},
   "outputs": [],
   "source": [
    "frames.describe()"
   ]
  },
  {
   "cell_type": "markdown",
   "id": "33cb7b63",
   "metadata": {},
   "source": [
    "Convert to [pandas DataFrame](https://pandas.pydata.org/pandas-docs/stable/user_guide/dsintro.html#dataframe)"
   ]
  },
  {
   "cell_type": "code",
   "execution_count": null,
   "id": "8b1d7a93",
   "metadata": {},
   "outputs": [],
   "source": [
    "frames.to_dataframe()"
   ]
  },
  {
   "cell_type": "markdown",
   "id": "68d44094",
   "metadata": {},
   "source": [
    "Fetch a triggered signal and plot."
   ]
  },
  {
   "cell_type": "code",
   "execution_count": null,
   "id": "cb3927d5",
   "metadata": {
    "scrolled": false
   },
   "outputs": [],
   "source": [
    "from vds1022 import *\n",
    "\n",
    "dev = VDS1022(debug=0)\n",
    "dev.set_timerange('10ms')\n",
    "dev.set_channel(CH1, range='20v', offset=5/10, probe='x10')\n",
    "dev.set_channel(CH2, range='20v', offset=1/10, probe='x10')\n",
    "dev.set_trigger(CH1, EDGE, RISE, level='2v', position=1/2)\n",
    "frames = dev.fetch()\n",
    "frames.plot()"
   ]
  },
  {
   "cell_type": "markdown",
   "id": "5c684d09",
   "metadata": {},
   "source": [
    "## 3. Live plotting\n"
   ]
  },
  {
   "cell_type": "markdown",
   "id": "2720c7bf",
   "metadata": {},
   "source": [
    "Plot the signals with AUTO auto sweep mode"
   ]
  },
  {
   "cell_type": "code",
   "execution_count": null,
   "id": "d7673722",
   "metadata": {
    "scrolled": true
   },
   "outputs": [],
   "source": [
    "from vds1022 import *\n",
    "\n",
    "dev = VDS1022(debug=0)\n",
    "dev.set_sampling('250k')\n",
    "dev.set_channel(CH1, range='20v', offset=5/10, probe='x10')\n",
    "dev.set_channel(CH2, range='20v', offset=1/10, probe='x10')\n",
    "dev.set_trigger(CH1, EDGE, RISE, level='1v', position=1/2, sweep=AUTO)\n",
    "dev.plot(freq=2);"
   ]
  },
  {
   "cell_type": "markdown",
   "id": "aa7883b5",
   "metadata": {},
   "source": [
    "Plot the signals with NORMAL sweep mode"
   ]
  },
  {
   "cell_type": "code",
   "execution_count": null,
   "id": "f37ce617",
   "metadata": {},
   "outputs": [],
   "source": [
    "from vds1022 import *\n",
    "\n",
    "dev = VDS1022(debug=0)\n",
    "dev.set_sampling('250k')\n",
    "dev.set_channel(CH1, range='20v', offset=5/10, probe='x10')\n",
    "dev.set_channel(CH2, range='20v', offset=1/10, probe='x10')\n",
    "dev.set_trigger(CH1, EDGE, RISE, level='1v', position=1/2, sweep=NORMAL)\n",
    "dev.plot(freq=2);"
   ]
  },
  {
   "cell_type": "markdown",
   "id": "6f72903c",
   "metadata": {},
   "source": [
    "Stop acquisition"
   ]
  },
  {
   "cell_type": "code",
   "execution_count": null,
   "id": "a874ba90",
   "metadata": {},
   "outputs": [],
   "source": [
    "dev.stop();"
   ]
  },
  {
   "cell_type": "markdown",
   "id": "9b35af35",
   "metadata": {},
   "source": [
    "## 4. Data logging\n",
    "This section provides examples to measure a signal at a defined interval."
   ]
  },
  {
   "cell_type": "markdown",
   "id": "f4bbf843",
   "metadata": {},
   "source": [
    "Stream the RMS voltage to a plot every second."
   ]
  },
  {
   "cell_type": "code",
   "execution_count": null,
   "id": "72feb704",
   "metadata": {
    "scrolled": false
   },
   "outputs": [],
   "source": [
    "from vds1022 import *\n",
    "\n",
    "dev = VDS1022(debug=0)\n",
    "dev.set_channel(CH1, range='10v', offset=1/10, probe='x10')\n",
    "dev.stream(freq=2).rms().plot();"
   ]
  },
  {
   "cell_type": "markdown",
   "id": "36a8a93c",
   "metadata": {},
   "source": [
    "Stream the average voltage to a streamz dataframe every second."
   ]
  },
  {
   "cell_type": "code",
   "execution_count": null,
   "id": "8cb110cc",
   "metadata": {},
   "outputs": [],
   "source": [
    "from vds1022 import *\n",
    "\n",
    "dev = VDS1022(debug=0)\n",
    "dev.set_channel(CH1, range='20v', offset=1/10, probe='x10')\n",
    "dev.set_channel(CH2, range='20v', offset=1/10, probe='x10')\n",
    "dev.stream(freq=1).avg().to_dataframe()"
   ]
  },
  {
   "cell_type": "markdown",
   "id": "f0cd8dd6",
   "metadata": {},
   "source": [
    "Stream the average voltage to stdout every second."
   ]
  },
  {
   "cell_type": "code",
   "execution_count": null,
   "id": "91e2a00e",
   "metadata": {
    "scrolled": false
   },
   "outputs": [],
   "source": [
    "from vds1022 import *\n",
    "\n",
    "dev = VDS1022(debug=0)\n",
    "dev.set_channel(CH1, range='20v', offset=1/10, probe='x10')\n",
    "dev.set_channel(CH2, range='20v', offset=1/10, probe='x10')\n",
    "dev.stream(freq=1).avg().sink(print);"
   ]
  },
  {
   "cell_type": "markdown",
   "id": "850ccb3e",
   "metadata": {},
   "source": [
    "Device roll mode"
   ]
  },
  {
   "cell_type": "code",
   "execution_count": null,
   "id": "1c09a41b",
   "metadata": {
    "scrolled": false
   },
   "outputs": [],
   "source": [
    "from vds1022 import *\n",
    "\n",
    "dev = VDS1022(debug=0)\n",
    "dev.set_timerange('60s', roll=True)\n",
    "dev.set_channel(CH1, range='10v', offset=1/10, probe='x10')\n",
    "dev.plot(freq=1);"
   ]
  },
  {
   "cell_type": "code",
   "execution_count": null,
   "id": "a9175520",
   "metadata": {},
   "outputs": [],
   "source": [
    "dev.stop();"
   ]
  },
  {
   "cell_type": "markdown",
   "id": "26b7bfba",
   "metadata": {},
   "source": [
    "Help:"
   ]
  },
  {
   "cell_type": "code",
   "execution_count": null,
   "id": "d12f0446",
   "metadata": {},
   "outputs": [],
   "source": [
    "from vds1022 import *\n",
    "help(vds1022.Stream)"
   ]
  },
  {
   "cell_type": "markdown",
   "id": "51d392ef",
   "metadata": {},
   "source": [
    "## 5. Continuous sampling\n",
    "\n",
    "This section provides examples to aquire and plot continuous samples without interruption for a defined duration.  \n",
    "While this device can acquire sampling frames at 100Ms/s, the maximum continuous sampling rate is around 100Ks/s.\n",
    "If the amount of collected data is too consequent, the ploting will have to go through rasterization."
   ]
  },
  {
   "cell_type": "markdown",
   "id": "6e09545c",
   "metadata": {},
   "source": [
    "Acquire continuously 10 samples per period for a 1Khz signal and plot :"
   ]
  },
  {
   "cell_type": "code",
   "execution_count": null,
   "id": "eaf46dda",
   "metadata": {
    "scrolled": true
   },
   "outputs": [],
   "source": [
    "from vds1022 import *\n",
    "\n",
    "dev = VDS1022(debug=0)\n",
    "dev.set_sampling('10k')  # 1K samples per seconds * 10 samples\n",
    "dev.set_channel(CH1, range='10v', offset=2/10, probe='x10')\n",
    "dev.set_trigger(CH1, EDGE, FALL, level='2.5v')\n",
    "\n",
    "frames = dev.read('1s')\n",
    "frames.plot()\n",
    "print(\"Samples: %s\" % frames.ch1.size)"
   ]
  },
  {
   "cell_type": "code",
   "execution_count": null,
   "id": "f36878be",
   "metadata": {},
   "outputs": [],
   "source": [
    "frames.slice('0.5s', '0.6s').plot()"
   ]
  },
  {
   "cell_type": "code",
   "execution_count": null,
   "id": "671a2563",
   "metadata": {},
   "outputs": [],
   "source": [
    "frames.to_dataframe()"
   ]
  },
  {
   "cell_type": "markdown",
   "id": "fb6be8dc",
   "metadata": {},
   "source": [
    "Acquire continuously 10 samples per period for a 1Khz signal and plot with rasterisation :"
   ]
  },
  {
   "cell_type": "code",
   "execution_count": null,
   "id": "155c6f63",
   "metadata": {
    "scrolled": true
   },
   "outputs": [],
   "source": [
    "from vds1022 import *\n",
    "import hvplot.pandas\n",
    "\n",
    "dev = VDS1022(debug=0)\n",
    "dev.set_sampling('10k')  # 1K samples per seconds * 10 samples\n",
    "dev.set_channel(CH1, range='10v', offset=2/10, probe='x10')\n",
    "dev.set_trigger(CH1, EDGE, FALL, level='2.5v')\n",
    "\n",
    "df = dev.read('1s').to_dataframe()\n",
    "df.hvplot(rasterize=True).opts(width=800, ylim=dev.ylim(), colorbar=False)"
   ]
  },
  {
   "cell_type": "markdown",
   "id": "3509cea5",
   "metadata": {},
   "source": [
    "## 6. Decoding"
   ]
  },
  {
   "cell_type": "markdown",
   "id": "469b7b0c",
   "metadata": {},
   "source": [
    "TTL"
   ]
  },
  {
   "cell_type": "code",
   "execution_count": null,
   "id": "2a3fb967",
   "metadata": {},
   "outputs": [],
   "source": [
    "from vds1022 import *\n",
    "\n",
    "dev = VDS1022(debug=0)\n",
    "dev.set_sampling('10k')  # 1K samples per seconds * 10 samples\n",
    "dev.set_channel(CH1, range='10v', offset=2/10, probe='x10')\n",
    "dev.set_trigger(CH1, EDGE, FALL, level='2.5v')\n",
    "\n",
    "frames = dev.read('1s')\n",
    "frames.ch1.to_ttl()"
   ]
  },
  {
   "cell_type": "markdown",
   "id": "47f2215d",
   "metadata": {},
   "source": [
    "I2C"
   ]
  },
  {
   "cell_type": "code",
   "execution_count": null,
   "id": "d7fa49f6",
   "metadata": {},
   "outputs": [],
   "source": [
    "from vds1022 import *\n",
    "\n",
    "dev = VDS1022()\n",
    "dev.set_sampling('10k')  # signal frequency * n samples\n",
    "dev.set_channel(CH1, range='20v', offset=5/10, probe='x10')  # sda\n",
    "dev.set_channel(CH2, range='20v', offset=1/10, probe='x10')  # scl\n",
    "dev.set_trigger(CH1, EDGE, FALL, position=1/20, level='1.2v')\n",
    "frames = dev.fetch()\n",
    "frames.plot()\n",
    "\n",
    "for msg in frames.decode_i2c():\n",
    "    print(msg, msg.data)"
   ]
  },
  {
   "cell_type": "markdown",
   "id": "863132d2",
   "metadata": {},
   "source": [
    "## 7. Spectrum analysis"
   ]
  },
  {
   "cell_type": "markdown",
   "id": "e3d14338",
   "metadata": {},
   "source": [
    "Setup device for 1kHz signal"
   ]
  },
  {
   "cell_type": "code",
   "execution_count": null,
   "id": "9a5afa82",
   "metadata": {
    "scrolled": false
   },
   "outputs": [],
   "source": [
    "from vds1022 import *\n",
    "\n",
    "dev = VDS1022()\n",
    "dev.set_sampling('100k')  #  1kHz * 100 samples\n",
    "# dev.set_sampling('100k')  #  1kHz * 100 samples\n",
    "dev.set_channel(CH1, range='10v', probe='x10', coupling=AC)\n",
    "dev.set_trigger(CH1, level=0)  # align the phase angle\n",
    "dev.wait(1)  # wait for the device AC coupling capacitor to charge"
   ]
  },
  {
   "cell_type": "markdown",
   "id": "f0e91a47",
   "metadata": {},
   "source": [
    "Plot spectrum"
   ]
  },
  {
   "cell_type": "code",
   "execution_count": null,
   "id": "32421a07",
   "metadata": {
    "scrolled": false
   },
   "outputs": [],
   "source": [
    "%matplotlib inline\n",
    "import matplotlib.pyplot as plt\n",
    "import numpy as np\n",
    "\n",
    "# acquire samples and compute the discrete Fourier Transform\n",
    "frame = dev.fetch().ch1\n",
    "xf, yf, pf = frame.fft(window=np.blackman)  # window: None, np.hanning, np.blackman ...\n",
    "\n",
    "# plot\n",
    "plt.rcParams['axes.grid'] = True\n",
    "fig, axs = plt.subplots(4, 1, figsize=(12, 4 * 2.3))\n",
    "axs[0].set_xlabel('Time [ms]')\n",
    "axs[1].set_xlabel('Frequency [kHz]')\n",
    "axs[0].set_ylabel('Input [V]')\n",
    "axs[1].set_ylabel('Magnitude [Vrms]')\n",
    "axs[2].set_ylabel('Magnitude [dBV]')\n",
    "axs[3].set_ylabel('Phase [rad]')\n",
    "axs[2].yaxis.set_ticks(np.arange(-100, 20, 20));\n",
    "axs[3].yaxis.set_ticks(np.arange(-2*np.pi, 2*np.pi, np.pi/2));\n",
    "axs[0].plot(frame.x() * 1000, frame.y())\n",
    "axs[1].plot(xf/1000, yf)\n",
    "axs[2].plot(xf/1000, 20 * np.log10(yf))\n",
    "axs[3].plot(xf/1000, pf)\n",
    "plt.tight_layout()"
   ]
  },
  {
   "cell_type": "markdown",
   "id": "aba3006d",
   "metadata": {},
   "source": [
    "Extract components from signal.\n"
   ]
  },
  {
   "cell_type": "code",
   "execution_count": null,
   "id": "1e9c13de",
   "metadata": {
    "scrolled": true
   },
   "outputs": [],
   "source": [
    "for f, v, p in frame.frequencies(threshold='5%', window=None):\n",
    "    print(\"%6s Hz  %5.2f Vrms  %5.2f rad\" % (f, v, p))"
   ]
  },
  {
   "cell_type": "markdown",
   "id": "5df43bbc",
   "metadata": {},
   "source": [
    "## 8. Calibration\n",
    "Wait a few minutes for the temperature of the device to stabilize before running the calibration.  \n",
    "Once done, the calibration is saved to a file which will be used from now on.  \n",
    "To restore the factory calibration, simply delete the file."
   ]
  },
  {
   "cell_type": "code",
   "execution_count": null,
   "id": "bf645020",
   "metadata": {
    "scrolled": false
   },
   "outputs": [],
   "source": [
    "from vds1022 import *\n",
    "\n",
    "dev = VDS1022(debug=0)\n",
    "dev.calibrate()"
   ]
  },
  {
   "cell_type": "markdown",
   "id": "0086a6f6",
   "metadata": {},
   "source": [
    "## 9. Release device"
   ]
  },
  {
   "cell_type": "code",
   "execution_count": null,
   "id": "398380f8",
   "metadata": {},
   "outputs": [],
   "source": [
    "from vds1022 import *\n",
    "\n",
    "dev = VDS1022(debug=0)\n",
    "dev.dispose()"
   ]
  }
 ],
 "metadata": {
  "kernelspec": {
   "display_name": "Python 3 (ipykernel)",
   "language": "python",
   "name": "python3"
  },
  "language_info": {
   "codemirror_mode": {
    "name": "ipython",
    "version": 3
   },
   "file_extension": ".py",
   "mimetype": "text/x-python",
   "name": "python",
   "nbconvert_exporter": "python",
   "pygments_lexer": "ipython3",
   "version": "3.9.7"
  }
 },
 "nbformat": 4,
 "nbformat_minor": 5
}
